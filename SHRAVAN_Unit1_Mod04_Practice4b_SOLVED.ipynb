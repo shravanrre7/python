{
  "cells": [
    {
      "cell_type": "markdown",
      "metadata": {
        "id": "view-in-github",
        "colab_type": "text"
      },
      "source": [
        "<a href=\"https://colab.research.google.com/github/shravanrre7/python/blob/main/SHRAVAN_Unit1_Mod04_Practice4b_SOLVED.ipynb\" target=\"_parent\"><img src=\"https://colab.research.google.com/assets/colab-badge.svg\" alt=\"Open In Colab\"/></a>"
      ]
    },
    {
      "cell_type": "markdown",
      "metadata": {
        "id": "--tu147twqW3"
      },
      "source": [
        "# Lab 4b\n",
        "## `while()` Loops and Increments\n",
        "\n",
        "-----\n",
        "\n",
        "### Student will be able to\n",
        "- Create forever loops using `while` and `break`\n",
        "- Use incrementing variables in a while loop\n",
        "- Control while loops using Boolean operators"
      ]
    },
    {
      "cell_type": "markdown",
      "metadata": {
        "id": "bX4xLbipwqW8"
      },
      "source": [
        "## Tasks"
      ]
    },
    {
      "cell_type": "code",
      "execution_count": 1,
      "metadata": {
        "id": "TsXq6irwwqW9",
        "outputId": "566da995-c513-4d67-a690-6e3a6d3f81b6",
        "colab": {
          "base_uri": "https://localhost:8080/"
        }
      },
      "outputs": [
        {
          "output_type": "stream",
          "name": "stdout",
          "text": [
            "enter an integer: 77\n",
            "enter an integer: 6\n",
            "enter an integer: 55\n",
            "enter an integer: YY\n",
            "138\n"
          ]
        }
      ],
      "source": [
        "# [ ] use a \"forever\" while loop to get user input of integers to add to sum, \n",
        "# until a non-digit is entered, then break the loop and print sum\n",
        "sum = 0\n",
        "\n",
        "while True:\n",
        "    addition = input(\"enter an integer: \")\n",
        "    if addition.isdigit():\n",
        "        sum += int(addition)\n",
        "    else:\n",
        "        print(sum)\n",
        "        break\n"
      ]
    },
    {
      "cell_type": "code",
      "execution_count": 2,
      "metadata": {
        "id": "WfXlO9aPwqW-",
        "outputId": "bc73e382-8dbc-45b8-f490-8fd25a49ac18",
        "colab": {
          "base_uri": "https://localhost:8080/"
        }
      },
      "outputs": [
        {
          "output_type": "stream",
          "name": "stdout",
          "text": [
            "enter rainbow colors: red\n",
            "Wrong, try again!\n",
            "enter rainbow colors: red orange yellow green blue indigo violet\n",
            "Great!\n"
          ]
        }
      ],
      "source": [
        "# [ ] use a while True loop (forever loop) to give 4 chances for input of a correct color in a rainbow\n",
        "# rainbow = \"red orange yellow green blue indigo violet\"\n",
        "rainbow = \"red orange yellow green blue indigo violet\"\n",
        "cnt = 1\n",
        "\n",
        "while True:\n",
        "    get_rainbow = input(\"enter rainbow colors: \")\n",
        "    if get_rainbow == rainbow:\n",
        "        print(\"Great!\")\n",
        "        break\n",
        "    elif cnt < 4:\n",
        "        print(\"Wrong, try again!\")\n",
        "        cnt += 1\n",
        "    else:\n",
        "        break\n",
        "\n"
      ]
    },
    {
      "cell_type": "code",
      "execution_count": 3,
      "metadata": {
        "id": "KRNRkGvOwqW_",
        "outputId": "778dcfbc-5871-4c2e-d1d4-f670b8d0958b",
        "colab": {
          "base_uri": "https://localhost:8080/"
        }
      },
      "outputs": [
        {
          "name": "stdout",
          "output_type": "stream",
          "text": [
            "enter a book title: jb\n",
            "enter a book title: Rrr\n"
          ]
        }
      ],
      "source": [
        "# [ ] Get input for a book title, keep looping while input is Not in title format (title is every word capitalized)\n",
        "title = input(\"enter a book title: \")\n",
        "\n",
        "while title != title.title():\n",
        "    title = input(\"enter a book title: \")\n"
      ]
    },
    {
      "cell_type": "code",
      "execution_count": 5,
      "metadata": {
        "id": "VoNX1EsIwqW_",
        "outputId": "0310ae5b-0724-4060-de07-870c07fa9a0d",
        "colab": {
          "base_uri": "https://localhost:8080/"
        }
      },
      "outputs": [
        {
          "name": "stdout",
          "output_type": "stream",
          "text": [
            "what is the solution for 2*2*23\n",
            "what is the solution for 2*2*28\n"
          ]
        }
      ],
      "source": [
        "# [ ] create a math quiz question and ask for the solution until the input is correct\n",
        "while True:\n",
        "    answer = int(input(\"what is the solution for 2*2*2\"))\n",
        "    if answer == 2*2*2:\n",
        "        break\n"
      ]
    },
    {
      "cell_type": "markdown",
      "metadata": {
        "id": "00TfHeolwqXA"
      },
      "source": [
        "## Fix the Error"
      ]
    },
    {
      "cell_type": "code",
      "execution_count": 9,
      "metadata": {
        "id": "Kc_afTrHwqXA",
        "outputId": "fa1a4baf-ace9-4fab-a7ae-8edf8193e200",
        "colab": {
          "base_uri": "https://localhost:8080/"
        }
      },
      "outputs": [
        {
          "output_type": "stream",
          "name": "stdout",
          "text": [
            "enter tickets remaining (0 to quit): 11\n",
            "sorry, not a winner.\n",
            "enter tickets remaining (0 to quit): 12\n",
            "you win!\n",
            "Game ended\n"
          ]
        }
      ],
      "source": [
        "# [ ] review the code, run, fix the error\n",
        "tickets = int(input(\"enter tickets remaining (0 to quit): \"))\n",
        "\n",
        "while tickets > 0:\n",
        "        # if tickets are multiple of 3 then \"winner\"\n",
        "    if tickets%3 == 0:\n",
        "        print(\"you win!\")\n",
        "        break\n",
        "    else:\n",
        "        print(\"sorry, not a winner.\")\n",
        "    tickets = int(input(\"enter tickets remaining (0 to quit): \"))\n",
        "\n",
        "print(\"Game ended\")\n",
        "    \n"
      ]
    },
    {
      "cell_type": "markdown",
      "metadata": {
        "id": "c7O5UJyNwqXB"
      },
      "source": [
        "## Create a function: quiz_item()  that asks a question and tests if input is correct  \n",
        "- quiz_item()has 2 parameter **strings**: question and solution  \n",
        "- shows question, gets answer input  \n",
        "- returns True if `answer == solution` or continues to ask question until correct answer is provided  \n",
        "- use a while loop\n",
        "\n",
        "create 2 or more quiz questions that call quiz_item()  \n",
        "**Hint**: provide multiple choice or T/F answers"
      ]
    },
    {
      "cell_type": "code",
      "execution_count": 12,
      "metadata": {
        "id": "pr2dJm1KwqXC",
        "outputId": "53c2c3f5-e12c-437c-dab4-c961d7638c27",
        "colab": {
          "base_uri": "https://localhost:8080/"
        }
      },
      "outputs": [
        {
          "output_type": "stream",
          "name": "stdout",
          "text": [
            "what is 4+4\n",
            "enter your answer: 66\n",
            "Sorry, wrong answer. Try again!\n",
            "enter your answer: 8\n",
            "Correct answer\n"
          ]
        }
      ],
      "source": [
        "# Create quiz_item() and 2 or more quiz questions that call quiz_item()\n",
        "\n",
        "def quiz_item(question, solution):\n",
        "    print(question)\n",
        "    while True:\n",
        "        answer = input(\"enter your answer: \")\n",
        "        if int(answer) == int(solution):\n",
        "            print(\"Correct answer\")\n",
        "            break\n",
        "            return True\n",
        "        else:\n",
        "            print(\"Sorry, wrong answer. Try again!\")\n",
        "\n",
        "quiz_item(\"what is 4+4\",8)\n"
      ]
    },
    {
      "cell_type": "markdown",
      "metadata": {
        "collapsed": true,
        "id": "GyYaZpMCwqXC"
      },
      "source": [
        "[Terms of use](http://go.microsoft.com/fwlink/?LinkID=206977) &nbsp; [Privacy & cookies](https://go.microsoft.com/fwlink/?LinkId=521839) &nbsp; © 2017 Microsoft"
      ]
    }
  ],
  "metadata": {
    "anaconda-cloud": {},
    "kernelspec": {
      "display_name": "Python 3",
      "language": "python",
      "name": "python3"
    },
    "language_info": {
      "codemirror_mode": {
        "name": "ipython",
        "version": 3
      },
      "file_extension": ".py",
      "mimetype": "text/x-python",
      "name": "python",
      "nbconvert_exporter": "python",
      "pygments_lexer": "ipython3",
      "version": "3.5.2"
    },
    "colab": {
      "provenance": [],
      "include_colab_link": true
    }
  },
  "nbformat": 4,
  "nbformat_minor": 0
}
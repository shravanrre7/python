{
  "cells": [
    {
      "cell_type": "markdown",
      "metadata": {
        "id": "view-in-github",
        "colab_type": "text"
      },
      "source": [
        "<a href=\"https://colab.research.google.com/github/shravanrre7/python/blob/main/SHRAVAN_Unit1_Mod04_Practice4b.ipynb\" target=\"_parent\"><img src=\"https://colab.research.google.com/assets/colab-badge.svg\" alt=\"Open In Colab\"/></a>"
      ]
    },
    {
      "cell_type": "markdown",
      "metadata": {
        "id": "--tu147twqW3"
      },
      "source": [
        "# Lab 4b\n",
        "## `while()` Loops and Increments\n",
        "\n",
        "-----\n",
        "\n",
        "### Student will be able to\n",
        "- Create forever loops using `while` and `break`\n",
        "- Use incrementing variables in a while loop\n",
        "- Control while loops using Boolean operators"
      ]
    },
    {
      "cell_type": "markdown",
      "metadata": {
        "id": "bX4xLbipwqW8"
      },
      "source": [
        "## Tasks"
      ]
    },
    {
      "cell_type": "code",
      "execution_count": null,
      "metadata": {
        "id": "TsXq6irwwqW9"
      },
      "outputs": [],
      "source": [
        "# [ ] use a \"forever\" while loop to get user input of integers to add to sum, \n",
        "# until a non-digit is entered, then break the loop and print sum\n",
        "sum = 0\n",
        "\n"
      ]
    },
    {
      "cell_type": "code",
      "execution_count": null,
      "metadata": {
        "id": "WfXlO9aPwqW-"
      },
      "outputs": [],
      "source": [
        "# [ ] use a while True loop (forever loop) to give 4 chances for input of a correct color in a rainbow\n",
        "# rainbow = \"red orange yellow green blue indigo violet\"\n",
        "\n"
      ]
    },
    {
      "cell_type": "code",
      "execution_count": null,
      "metadata": {
        "id": "KRNRkGvOwqW_"
      },
      "outputs": [],
      "source": [
        "# [ ] Get input for a book title, keep looping while input is Not in title format (title is every word capitalized)\n",
        "title = \"\"\n",
        "\n"
      ]
    },
    {
      "cell_type": "code",
      "execution_count": null,
      "metadata": {
        "id": "VoNX1EsIwqW_"
      },
      "outputs": [],
      "source": [
        "# [ ] create a math quiz question and ask for the solution until the input is correct\n",
        "\n"
      ]
    },
    {
      "cell_type": "markdown",
      "metadata": {
        "id": "00TfHeolwqXA"
      },
      "source": [
        "## Fix the Error"
      ]
    },
    {
      "cell_type": "code",
      "execution_count": null,
      "metadata": {
        "id": "Kc_afTrHwqXA"
      },
      "outputs": [],
      "source": [
        "# [ ] review the code, run, fix the error\n",
        "tickets = input(\"enter tickets remaining (0 to quit): \")\n",
        "\n",
        "while tickets > 0:\n",
        "        # if tickets are multiple of 3 then \"winner\"\n",
        "    if int(tickets/3) == tickets/3:\n",
        "        print(\"you win!\")\n",
        "    else:\n",
        "        print(\"sorry, not a winner.\")\n",
        "    tickets = int(input(\"enter tickets remaining (0 to quit): \"))\n",
        "\n",
        "print(\"Game ended\")\n",
        "    \n"
      ]
    },
    {
      "cell_type": "markdown",
      "metadata": {
        "id": "c7O5UJyNwqXB"
      },
      "source": [
        "## Create a function: quiz_item()  that asks a question and tests if input is correct  \n",
        "- quiz_item()has 2 parameter **strings**: question and solution  \n",
        "- shows question, gets answer input  \n",
        "- returns True if `answer == solution` or continues to ask question until correct answer is provided  \n",
        "- use a while loop\n",
        "\n",
        "create 2 or more quiz questions that call quiz_item()  \n",
        "**Hint**: provide multiple choice or T/F answers"
      ]
    },
    {
      "cell_type": "code",
      "execution_count": null,
      "metadata": {
        "id": "pr2dJm1KwqXC"
      },
      "outputs": [],
      "source": [
        "# Create quiz_item() and 2 or more quiz questions that call quiz_item()\n",
        "\n"
      ]
    },
    {
      "cell_type": "markdown",
      "metadata": {
        "collapsed": true,
        "id": "GyYaZpMCwqXC"
      },
      "source": [
        "[Terms of use](http://go.microsoft.com/fwlink/?LinkID=206977) &nbsp; [Privacy & cookies](https://go.microsoft.com/fwlink/?LinkId=521839) &nbsp; © 2017 Microsoft"
      ]
    }
  ],
  "metadata": {
    "anaconda-cloud": {},
    "kernelspec": {
      "display_name": "Python 3",
      "language": "python",
      "name": "python3"
    },
    "language_info": {
      "codemirror_mode": {
        "name": "ipython",
        "version": 3
      },
      "file_extension": ".py",
      "mimetype": "text/x-python",
      "name": "python",
      "nbconvert_exporter": "python",
      "pygments_lexer": "ipython3",
      "version": "3.5.2"
    },
    "colab": {
      "provenance": [],
      "include_colab_link": true
    }
  },
  "nbformat": 4,
  "nbformat_minor": 0
}